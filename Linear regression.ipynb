{
 "cells": [
  {
   "cell_type": "markdown",
   "id": "89223f98",
   "metadata": {},
   "source": [
    "### Importing useful libraries \n"
   ]
  },
  {
   "cell_type": "code",
   "execution_count": 1,
   "id": "26f77ebe",
   "metadata": {},
   "outputs": [],
   "source": [
    "# This Python 3 environment comes with many helpful analytics libraries installed\n",
    "# For example, here's several helpful packages to load in\n",
    "import numpy as np   # linear algebra\n",
    "import matplotlib.pyplot as plt # data visualization\n",
    "import pandas as pd  # data processing, CSV file I/O (e.g. pd.read_csv)"
   ]
  },
  {
   "cell_type": "markdown",
   "id": "31c8220d",
   "metadata": {},
   "source": [
    "### Loading the dataset \n",
    "#### For implementation we will be using house prediction dataset . The dataset can be found [here](https://github.com/vrinda01go/Hellofoss/blob/main/Insti_data.csv)"
   ]
  },
  {
   "cell_type": "code",
   "execution_count": 9,
   "id": "4ac8e74b",
   "metadata": {},
   "outputs": [
    {
     "data": {
      "text/html": [
       "<div>\n",
       "<style scoped>\n",
       "    .dataframe tbody tr th:only-of-type {\n",
       "        vertical-align: middle;\n",
       "    }\n",
       "\n",
       "    .dataframe tbody tr th {\n",
       "        vertical-align: top;\n",
       "    }\n",
       "\n",
       "    .dataframe thead th {\n",
       "        text-align: right;\n",
       "    }\n",
       "</style>\n",
       "<table border=\"1\" class=\"dataframe\">\n",
       "  <thead>\n",
       "    <tr style=\"text-align: right;\">\n",
       "      <th></th>\n",
       "      <th>Price</th>\n",
       "      <th>Hostel No.</th>\n",
       "      <th>Occupancy</th>\n",
       "      <th>Room Size</th>\n",
       "      <th>Floor</th>\n",
       "    </tr>\n",
       "  </thead>\n",
       "  <tbody>\n",
       "    <tr>\n",
       "      <th>0</th>\n",
       "      <td>0.598263</td>\n",
       "      <td>1.166218</td>\n",
       "      <td>-1.280192</td>\n",
       "      <td>-1.241779</td>\n",
       "      <td>1.666014</td>\n",
       "    </tr>\n",
       "    <tr>\n",
       "      <th>1</th>\n",
       "      <td>0.937400</td>\n",
       "      <td>1.166218</td>\n",
       "      <td>-0.031699</td>\n",
       "      <td>-0.051574</td>\n",
       "      <td>0.340475</td>\n",
       "    </tr>\n",
       "    <tr>\n",
       "      <th>2</th>\n",
       "      <td>NaN</td>\n",
       "      <td>1.166218</td>\n",
       "      <td>-1.280192</td>\n",
       "      <td>-0.808204</td>\n",
       "      <td>1.666014</td>\n",
       "    </tr>\n",
       "    <tr>\n",
       "      <th>3</th>\n",
       "      <td>0.430579</td>\n",
       "      <td>1.166218</td>\n",
       "      <td>-0.031699</td>\n",
       "      <td>-0.230105</td>\n",
       "      <td>-0.985065</td>\n",
       "    </tr>\n",
       "    <tr>\n",
       "      <th>4</th>\n",
       "      <td>NaN</td>\n",
       "      <td>1.166218</td>\n",
       "      <td>-0.031699</td>\n",
       "      <td>0.509522</td>\n",
       "      <td>0.340475</td>\n",
       "    </tr>\n",
       "    <tr>\n",
       "      <th>...</th>\n",
       "      <td>...</td>\n",
       "      <td>...</td>\n",
       "      <td>...</td>\n",
       "      <td>...</td>\n",
       "      <td>...</td>\n",
       "    </tr>\n",
       "    <tr>\n",
       "      <th>6533</th>\n",
       "      <td>-0.264652</td>\n",
       "      <td>-0.096155</td>\n",
       "      <td>-1.280192</td>\n",
       "      <td>-1.292788</td>\n",
       "      <td>-0.543219</td>\n",
       "    </tr>\n",
       "    <tr>\n",
       "      <th>6534</th>\n",
       "      <td>-0.409727</td>\n",
       "      <td>-0.096155</td>\n",
       "      <td>-1.280192</td>\n",
       "      <td>-1.496823</td>\n",
       "      <td>-0.543219</td>\n",
       "    </tr>\n",
       "    <tr>\n",
       "      <th>6535</th>\n",
       "      <td>-0.833648</td>\n",
       "      <td>1.166218</td>\n",
       "      <td>-0.031699</td>\n",
       "      <td>0.118455</td>\n",
       "      <td>-0.543219</td>\n",
       "    </tr>\n",
       "    <tr>\n",
       "      <th>6536</th>\n",
       "      <td>0.466377</td>\n",
       "      <td>-0.096155</td>\n",
       "      <td>-0.031699</td>\n",
       "      <td>-0.170595</td>\n",
       "      <td>-1.426912</td>\n",
       "    </tr>\n",
       "    <tr>\n",
       "      <th>6537</th>\n",
       "      <td>-0.899592</td>\n",
       "      <td>1.166218</td>\n",
       "      <td>-0.031699</td>\n",
       "      <td>0.318239</td>\n",
       "      <td>-0.985065</td>\n",
       "    </tr>\n",
       "  </tbody>\n",
       "</table>\n",
       "<p>6538 rows × 5 columns</p>\n",
       "</div>"
      ],
      "text/plain": [
       "         Price  Hostel No.  Occupancy  Room Size     Floor\n",
       "0     0.598263    1.166218  -1.280192  -1.241779  1.666014\n",
       "1     0.937400    1.166218  -0.031699  -0.051574  0.340475\n",
       "2          NaN    1.166218  -1.280192  -0.808204  1.666014\n",
       "3     0.430579    1.166218  -0.031699  -0.230105 -0.985065\n",
       "4          NaN    1.166218  -0.031699   0.509522  0.340475\n",
       "...        ...         ...        ...        ...       ...\n",
       "6533 -0.264652   -0.096155  -1.280192  -1.292788 -0.543219\n",
       "6534 -0.409727   -0.096155  -1.280192  -1.496823 -0.543219\n",
       "6535 -0.833648    1.166218  -0.031699   0.118455 -0.543219\n",
       "6536  0.466377   -0.096155  -0.031699  -0.170595 -1.426912\n",
       "6537 -0.899592    1.166218  -0.031699   0.318239 -0.985065\n",
       "\n",
       "[6538 rows x 5 columns]"
      ]
     },
     "execution_count": 9,
     "metadata": {},
     "output_type": "execute_result"
    }
   ],
   "source": [
    "df = pd.read_csv(\"insti_data.csv\")  #import text file \n",
    "df = (df - df.mean())/df.std() # Normalize features so that all values lie within same range\n",
    "df"
   ]
  },
  {
   "cell_type": "code",
   "execution_count": 16,
   "id": "c488460b",
   "metadata": {},
   "outputs": [
    {
     "data": {
      "image/png": "[encoded data removed]",
      "text/plain": [
       "<Figure size 432x288 with 1 Axes>"
      ]
     },
     "metadata": {
      "needs_background": "light"
     },
     "output_type": "display_data"
    }
   ],
   "source": [
    "plt.scatter(df['Hostel No.'], df['Price'])\n",
    "plt.scatter(df['Occupancy'], df['Price'])\n",
    "plt.scatter(df['Room Size'], df['Price'])\n",
    "plt.scatter(df['Floor'], df['Price'])\n",
    "plt.xlabel('Features')\n",
    "plt.ylabel('Price')\n",
    "plt.show()"
   ]
  },
  {
   "cell_type": "markdown",
   "id": "03d8ad6f",
   "metadata": {},
   "source": [
    "#### You can see that it is possible to roughly fit a line through the above plot. This means a linear approximation will actually allow us to make pretty accurate predictions and hence we go for linear regression.\n",
    "#### Well now that we have the data ready lets move on to the fun part. Coding the algorithm!"
   ]
  },
  {
   "cell_type": "markdown",
   "id": "627a5a3a",
   "metadata": {},
   "source": [
    "#### Since our dataset has four features i.e Hostel No. , Occupancy, Room Size and Floor ,our hypothesis function becomes\n",
    "### hθ(x) = θ0 + θ1x1 + θ2x2 +θ3x3 + θ4x4\n",
    "#### where x1 ,x2,x3 and x4 are the two features (i.e. size of house and number of rooms)"
   ]
  },
  {
   "attachments": {},
   "cell_type": "markdown",
   "id": "58fdf0fe",
   "metadata": {},
   "source": [
    "### So Your task is to define hypothesis function having 4 features and a corresponding cost function "
   ]
  },
  {
   "cell_type": "code",
   "execution_count": null,
   "id": "34dc5643",
   "metadata": {},
   "outputs": [],
   "source": [
    " # define and complete hypothesis function "
   ]
  },
  {
   "cell_type": "code",
   "execution_count": null,
   "id": "6fae141b",
   "metadata": {},
   "outputs": [],
   "source": [
    "# define and complete cost function"
   ]
  },
  {
   "attachments": {},
   "cell_type": "markdown",
   "id": "178eb11f",
   "metadata": {},
   "source": [
    "### Gradient Descent \n",
    "#### So we have our hypothesis function and we have a way of measuring how well it fits into the data. Now we need to estimate the parameters in the hypothesis function. That's where gradient descent comes in.\n",
    "### Your next task is to define gradient descent function having alpha as learning rate and n as number of epochs \n",
    "\n"
   ]
  },
  {
   "cell_type": "code",
   "execution_count": 8,
   "id": "167b5bdc",
   "metadata": {},
   "outputs": [],
   "source": [
    "#define and complete Gradient Descent function "
   ]
  },
  {
   "cell_type": "markdown",
   "id": "724e407a",
   "metadata": {},
   "source": [
    "#### For different values of theta we will get different values of our cost function .\n",
    "### Now we want to visualize how our cost function varies with number of epochs .So your next task is to plot graph of updated costs vs number of epochs "
   ]
  },
  {
   "cell_type": "markdown",
   "id": "e82f6ebf",
   "metadata": {},
   "source": [
    "#### After plotting above graph you will notice that your cost function decreases with epochs.\n",
    "#### Perfect! This is all what we wanted to seek by doing linear regression. \n",
    "\n",
    "#### Now it's time to test our model on some test data. \n",
    "### For this you will define a test function that will take as input Hostel No. , Occupancy, Room Size , Floor and the final theta vector that was returned by our linear regression model and will give us the price of the house. Compute it for any set of features given and final value of theta as given by gradient descent function"
   ]
  },
  {
   "cell_type": "code",
   "execution_count": null,
   "id": "e27ddda1",
   "metadata": {},
   "outputs": [],
   "source": [
    "# define and complete test function that will take required inputs .This function should return price of Room "
   ]
  },
  {
   "cell_type": "markdown",
   "id": "947f35b1",
   "metadata": {},
   "source": [
    "#### Now since we have defined all required functions , we can call functions one by one and get our final results .\n",
    "### Your final task is to use all functions defined above and predict the price of room for some input combinations to check how well your model works.Take learning rate apha=0.1 and epochs= 50 "
   ]
  },
  {
   "cell_type": "markdown",
   "id": "06e54ef5",
   "metadata": {},
   "source": [
    "#### You may wonder why we have taken alpha =0.1 and epochs =50. For this you can try playing with different values of alpha and epochs and see which combination gives most accurate results .\n",
    "#### Note that learning rate should be neither very high nor very low .Why?\n",
    "#### Check out exact reason [here](https://towardsdatascience.com/understanding-learning-rates-and-how-it-improves-performance-in-deep-learning-d0d4059c1c10)"
   ]
  }
 ],
 "metadata": {
  "kernelspec": {
   "display_name": "Python 3",
   "language": "python",
   "name": "python3"
  },
  "language_info": {
   "codemirror_mode": {
    "name": "ipython",
    "version": 3
   },
   "file_extension": ".py",
   "mimetype": "text/x-python",
   "name": "python",
   "nbconvert_exporter": "python",
   "pygments_lexer": "ipython3",
   "version": "3.8.8"
  }
 },
 "nbformat": 4,
 "nbformat_minor": 5
}
